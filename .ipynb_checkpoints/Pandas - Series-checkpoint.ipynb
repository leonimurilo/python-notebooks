{
 "cells": [
  {
   "cell_type": "code",
   "execution_count": 1,
   "metadata": {},
   "outputs": [],
   "source": [
    "import pandas as pd"
   ]
  },
  {
   "cell_type": "markdown",
   "metadata": {},
   "source": [
    "## Creating Series"
   ]
  },
  {
   "cell_type": "markdown",
   "metadata": {},
   "source": [
    "#### When to use pandas Series vs Numpy ndarrays\n",
    "- [Practical reasons](https://stackoverflow.com/questions/45285743/when-to-use-pandas-series-numpy-ndarrays-or-simply-python-dictionaries)\n",
    "- [Speed](https://penandpants.com/2014/09/05/performance-of-pandas-series-vs-numpy-arrays/)"
   ]
  },
  {
   "cell_type": "markdown",
   "metadata": {},
   "source": [
    "A Pandas series is a one-dimensional array-like object that can hold many data types, such as numbers or strings.\n",
    "This is different from Numpy array since numpy arrays can only hold 1 datatype.\n",
    "\n",
    "Another big difference is that you can assign an index label to each element in the pandas series."
   ]
  },
  {
   "cell_type": "code",
   "execution_count": 2,
   "metadata": {},
   "outputs": [
    {
     "data": {
      "text/plain": [
       "eggs       30\n",
       "apples      6\n",
       "milk      yes\n",
       "bread      no\n",
       "dtype: object"
      ]
     },
     "execution_count": 2,
     "metadata": {},
     "output_type": "execute_result"
    }
   ],
   "source": [
    "groceries = pd.Series(data=[30, 6, 'yes', 'no'], index=['eggs', 'apples', 'milk', 'bread'])\n",
    "groceries"
   ]
  },
  {
   "cell_type": "code",
   "execution_count": 4,
   "metadata": {},
   "outputs": [
    {
     "data": {
      "text/plain": [
       "(4,)"
      ]
     },
     "execution_count": 4,
     "metadata": {},
     "output_type": "execute_result"
    }
   ],
   "source": [
    "# getting the shape tuple\n",
    "groceries.shape"
   ]
  },
  {
   "cell_type": "code",
   "execution_count": 5,
   "metadata": {},
   "outputs": [
    {
     "data": {
      "text/plain": [
       "1"
      ]
     },
     "execution_count": 5,
     "metadata": {},
     "output_type": "execute_result"
    }
   ],
   "source": [
    "# getting the number of dimensions of the object\n",
    "groceries.ndim"
   ]
  },
  {
   "cell_type": "code",
   "execution_count": 6,
   "metadata": {},
   "outputs": [
    {
     "data": {
      "text/plain": [
       "4"
      ]
     },
     "execution_count": 6,
     "metadata": {},
     "output_type": "execute_result"
    }
   ],
   "source": [
    "# getting the number of elements\n",
    "groceries.size"
   ]
  },
  {
   "cell_type": "code",
   "execution_count": 14,
   "metadata": {},
   "outputs": [
    {
     "data": {
      "text/plain": [
       "Index(['eggs', 'apples', 'milk', 'bread'], dtype='object')"
      ]
     },
     "execution_count": 14,
     "metadata": {},
     "output_type": "execute_result"
    }
   ],
   "source": [
    "# getting the index labels\n",
    "groceries.index"
   ]
  },
  {
   "cell_type": "code",
   "execution_count": 15,
   "metadata": {},
   "outputs": [
    {
     "name": "stdout",
     "output_type": "stream",
     "text": [
      "<class 'numpy.ndarray'>\n",
      "[30 6 'yes' 'no']\n"
     ]
    }
   ],
   "source": [
    "# getting the data of the series\n",
    "# it returns a numpy ndarray\n",
    "print(type(groceries.values))\n",
    "print(groceries.values)"
   ]
  },
  {
   "cell_type": "code",
   "execution_count": 16,
   "metadata": {},
   "outputs": [
    {
     "name": "stdout",
     "output_type": "stream",
     "text": [
      "False\n",
      "True\n"
     ]
    }
   ],
   "source": [
    "# checking whether or not if there is an element with that label\n",
    "print('bananas' in groceries)\n",
    "print('milk' in groceries)"
   ]
  },
  {
   "cell_type": "markdown",
   "metadata": {},
   "source": [
    "## Accessing elements"
   ]
  },
  {
   "cell_type": "code",
   "execution_count": 17,
   "metadata": {},
   "outputs": [
    {
     "data": {
      "text/plain": [
       "30"
      ]
     },
     "execution_count": 17,
     "metadata": {},
     "output_type": "execute_result"
    }
   ],
   "source": [
    "# single element\n",
    "groceries['eggs']"
   ]
  },
  {
   "cell_type": "code",
   "execution_count": 18,
   "metadata": {},
   "outputs": [
    {
     "data": {
      "text/plain": [
       "eggs     30\n",
       "bread    no\n",
       "dtype: object"
      ]
     },
     "execution_count": 18,
     "metadata": {},
     "output_type": "execute_result"
    }
   ],
   "source": [
    "# multiple elements\n",
    "groceries[['eggs', 'bread']]"
   ]
  },
  {
   "cell_type": "code",
   "execution_count": 20,
   "metadata": {},
   "outputs": [
    {
     "name": "stdout",
     "output_type": "stream",
     "text": [
      "30\n",
      "no\n"
     ]
    }
   ],
   "source": [
    "# by index\n",
    "print(groceries[0])\n",
    "print(groceries[-1])"
   ]
  },
  {
   "cell_type": "code",
   "execution_count": 24,
   "metadata": {},
   "outputs": [
    {
     "data": {
      "text/plain": [
       "eggs    30\n",
       "dtype: object"
      ]
     },
     "execution_count": 24,
     "metadata": {},
     "output_type": "execute_result"
    }
   ],
   "source": [
    "# expliciting using labels to access elements\n",
    "# there is an ATTRIBUTE (not a method) called loc (stands for location) to access elements by label\n",
    "#(since the brackets notation tries to detect automatically whether you used index or label)\n",
    "groceries.loc['eggs']\n",
    "# or (for multiple items:)\n",
    "groceries.loc[['eggs']]"
   ]
  },
  {
   "cell_type": "code",
   "execution_count": 26,
   "metadata": {},
   "outputs": [
    {
     "data": {
      "text/plain": [
       "eggs      30\n",
       "apples     6\n",
       "dtype: object"
      ]
     },
     "execution_count": 26,
     "metadata": {},
     "output_type": "execute_result"
    }
   ],
   "source": [
    "# expliciting using indices to access elements\n",
    "# there is an ATTRIBUTE (not a method) called iloc (stands for integer location) to access elements by index\n",
    "groceries.iloc[1]\n",
    "# or (for multiple items:)\n",
    "groceries.iloc[[0, 1]]"
   ]
  },
  {
   "cell_type": "markdown",
   "metadata": {},
   "source": [
    "## Assigning elements"
   ]
  },
  {
   "cell_type": "code",
   "execution_count": 28,
   "metadata": {},
   "outputs": [
    {
     "name": "stdout",
     "output_type": "stream",
     "text": [
      "eggs        2\n",
      "apples      6\n",
      "milk      yes\n",
      "bread      no\n",
      "dtype: object\n"
     ]
    }
   ],
   "source": [
    "groceries['eggs'] = 2\n",
    "print(groceries)"
   ]
  },
  {
   "cell_type": "markdown",
   "metadata": {},
   "source": [
    "## Deleting elements"
   ]
  },
  {
   "cell_type": "code",
   "execution_count": 31,
   "metadata": {},
   "outputs": [
    {
     "name": "stdout",
     "output_type": "stream",
     "text": [
      "eggs       2\n",
      "milk     yes\n",
      "bread     no\n",
      "dtype: object\n",
      "-------\n",
      "eggs        2\n",
      "apples      6\n",
      "milk      yes\n",
      "bread      no\n",
      "dtype: object\n"
     ]
    }
   ],
   "source": [
    "# deleting without mutating the series\n",
    "# this returns the new modified series\n",
    "print(groceries.drop('apples'))\n",
    "print('-------')\n",
    "print(groceries)"
   ]
  },
  {
   "cell_type": "code",
   "execution_count": 34,
   "metadata": {
    "scrolled": true
   },
   "outputs": [
    {
     "data": {
      "text/plain": [
       "eggs       2\n",
       "milk     yes\n",
       "bread     no\n",
       "dtype: object"
      ]
     },
     "execution_count": 34,
     "metadata": {},
     "output_type": "execute_result"
    }
   ],
   "source": [
    "groceries.drop('apples', inplace=True)\n",
    "groceries"
   ]
  },
  {
   "cell_type": "markdown",
   "metadata": {},
   "source": [
    "## Aritmetic operations"
   ]
  },
  {
   "cell_type": "code",
   "execution_count": 36,
   "metadata": {},
   "outputs": [
    {
     "data": {
      "text/plain": [
       "apples     10\n",
       "oranges     6\n",
       "bananas     3\n",
       "dtype: int64"
      ]
     },
     "execution_count": 36,
     "metadata": {},
     "output_type": "execute_result"
    }
   ],
   "source": [
    "fruits = pd.Series(data = [10, 6, 3,], index = ['apples', 'oranges', 'bananas'])\n",
    "fruits"
   ]
  },
  {
   "cell_type": "code",
   "execution_count": 38,
   "metadata": {},
   "outputs": [
    {
     "name": "stdout",
     "output_type": "stream",
     "text": [
      "\n",
      "fruits + 2:\n",
      " apples     12\n",
      "oranges     8\n",
      "bananas     5\n",
      "dtype: int64\n",
      "\n",
      "fruits - 2:\n",
      " apples     8\n",
      "oranges    4\n",
      "bananas    1\n",
      "dtype: int64\n",
      "\n",
      "fruits * 2:\n",
      " apples     20\n",
      "oranges    12\n",
      "bananas     6\n",
      "dtype: int64\n",
      "\n",
      "fruits / 2:\n",
      " apples     5.0\n",
      "oranges    3.0\n",
      "bananas    1.5\n",
      "dtype: float64\n",
      "\n",
      "apples     10\n",
      "oranges     6\n",
      "bananas     3\n",
      "dtype: int64\n"
     ]
    }
   ],
   "source": [
    "# We perform basic element-wise operations using arithmetic symbols\n",
    "# this doesn't mutate the original one but instead returns it\n",
    "print()\n",
    "print('fruits + 2:\\n', fruits + 2) # We add 2 to each item in fruits\n",
    "print()\n",
    "print('fruits - 2:\\n', fruits - 2) # We subtract 2 to each item in fruits\n",
    "print()\n",
    "print('fruits * 2:\\n', fruits * 2) # We multiply each item in fruits by 2 \n",
    "print()\n",
    "print('fruits / 2:\\n', fruits / 2) # We divide each item in fruits by 2\n",
    "print()\n",
    "print(fruits)"
   ]
  },
  {
   "cell_type": "code",
   "execution_count": 39,
   "metadata": {},
   "outputs": [
    {
     "name": "stdout",
     "output_type": "stream",
     "text": [
      "Original grocery list of fruits:\n",
      " apples     10\n",
      "oranges     6\n",
      "bananas     3\n",
      "dtype: int64\n",
      "\n",
      "EXP(X) = \n",
      " apples     22026.465795\n",
      "oranges      403.428793\n",
      "bananas       20.085537\n",
      "dtype: float64\n",
      "\n",
      "SQRT(X) =\n",
      " apples     3.162278\n",
      "oranges    2.449490\n",
      "bananas    1.732051\n",
      "dtype: float64\n",
      "\n",
      "POW(X,2) =\n",
      " apples     100\n",
      "oranges     36\n",
      "bananas      9\n",
      "dtype: int64\n"
     ]
    }
   ],
   "source": [
    "# We import NumPy as np to be able to use the mathematical functions\n",
    "import numpy as np\n",
    "\n",
    "# We print fruits for reference\n",
    "print('Original grocery list of fruits:\\n', fruits)\n",
    "\n",
    "# We apply different mathematical functions to all elements of fruits\n",
    "print()\n",
    "print('EXP(X) = \\n', np.exp(fruits))\n",
    "print() \n",
    "print('SQRT(X) =\\n', np.sqrt(fruits))\n",
    "print()\n",
    "print('POW(X,2) =\\n',np.power(fruits,2)) # We raise all elements of fruits to the power of 2"
   ]
  },
  {
   "cell_type": "code",
   "execution_count": 40,
   "metadata": {},
   "outputs": [
    {
     "name": "stdout",
     "output_type": "stream",
     "text": [
      "Original grocery list of fruits:\n",
      "  apples     10\n",
      "oranges     6\n",
      "bananas     3\n",
      "dtype: int64\n",
      "\n",
      "Amount of bananas + 2 =  5\n",
      "\n",
      "Amount of apples - 2 =  8\n",
      "\n",
      "We double the amount of apples and oranges:\n",
      " apples     20\n",
      "oranges    12\n",
      "dtype: int64\n",
      "\n",
      "We half the amount of apples and oranges:\n",
      " apples     5.0\n",
      "oranges    3.0\n",
      "dtype: float64\n"
     ]
    }
   ],
   "source": [
    "# We print fruits for reference\n",
    "print('Original grocery list of fruits:\\n ', fruits)\n",
    "print()\n",
    "\n",
    "# We add 2 only to the bananas\n",
    "print('Amount of bananas + 2 = ', fruits['bananas'] + 2)\n",
    "print()\n",
    "\n",
    "# We subtract 2 from apples\n",
    "print('Amount of apples - 2 = ', fruits.iloc[0] - 2)\n",
    "print()\n",
    "\n",
    "# We multiply apples and oranges by 2\n",
    "print('We double the amount of apples and oranges:\\n', fruits[['apples', 'oranges']] * 2)\n",
    "print()\n",
    "\n",
    "# We divide apples and oranges by 2\n",
    "print('We half the amount of apples and oranges:\\n', fruits.loc[['apples', 'oranges']] / 2)"
   ]
  },
  {
   "cell_type": "code",
   "execution_count": 41,
   "metadata": {},
   "outputs": [
    {
     "data": {
      "text/plain": [
       "eggs          4\n",
       "milk     yesyes\n",
       "bread      nono\n",
       "dtype: object"
      ]
     },
     "execution_count": 41,
     "metadata": {},
     "output_type": "execute_result"
    }
   ],
   "source": [
    "# We multiply our grocery list by 2\n",
    "# When using the operastions like this, make sure the dastatypes within the series\n",
    "# are compatible with the operations\n",
    "# in this case strings are \"duplicated\" when multiplied by 2\n",
    "groceries * 2"
   ]
  },
  {
   "cell_type": "code",
   "execution_count": null,
   "metadata": {},
   "outputs": [],
   "source": []
  }
 ],
 "metadata": {
  "kernelspec": {
   "display_name": "Python 3",
   "language": "python",
   "name": "python3"
  },
  "language_info": {
   "codemirror_mode": {
    "name": "ipython",
    "version": 3
   },
   "file_extension": ".py",
   "mimetype": "text/x-python",
   "name": "python",
   "nbconvert_exporter": "python",
   "pygments_lexer": "ipython3",
   "version": "3.6.5"
  }
 },
 "nbformat": 4,
 "nbformat_minor": 2
}
